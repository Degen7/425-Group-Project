{
 "cells": [
  {
   "cell_type": "code",
   "execution_count": 7,
   "metadata": {},
   "outputs": [
    {
     "name": "stderr",
     "output_type": "stream",
     "text": [
      "Extracting peaks from Final_bed_files/test_bedFiles/SRX391990.target.all.bed: 100%|██████████| 19464/19464 [00:02<00:00, 7385.33it/s] \n",
      "Extracting peaks from Final_bed_files/test_bedFiles/SRX391991.target.all.bed: 100%|██████████| 22100/22100 [00:01<00:00, 11960.51it/s]\n",
      "Extracting peaks from Final_bed_files/test_bedFiles/SRX391992.target.all.bed: 100%|██████████| 16752/16752 [00:01<00:00, 11372.38it/s]\n",
      "Extracting peaks from Final_bed_files/test_bedFiles/SRX391993.target.all.bed: 100%|██████████| 22932/22932 [00:05<00:00, 3830.51it/s]\n",
      "Extracting peaks from Final_bed_files/test_bedFiles/SRX391994.target.all.bed: 100%|██████████| 29238/29238 [00:05<00:00, 5826.96it/s]\n",
      "Extracting peaks from Final_bed_files/test_bedFiles/SRX391995.target.all.bed: 100%|██████████| 13905/13905 [00:04<00:00, 3102.38it/s]\n",
      "Extracting peaks from Final_bed_files/test_bedFiles/SRX391996.target.all.bed: 100%|██████████| 13879/13879 [00:10<00:00, 1359.30it/s]\n",
      "Extracting peaks from Final_bed_files/test_bedFiles/SRX391997.target.all.bed: 100%|██████████| 11987/11987 [00:01<00:00, 6596.58it/s]\n",
      "Extracting peaks from Final_bed_files/test_bedFiles/SRX1096548.target.all.bed: 100%|██████████| 24019/24019 [00:04<00:00, 5675.96it/s]\n",
      "Extracting peaks from Final_bed_files/test_bedFiles/SRX1096549.target.all.bed: 100%|██████████| 20457/20457 [00:03<00:00, 6740.12it/s]\n"
     ]
    },
    {
     "name": "stdout",
     "output_type": "stream",
     "text": [
      "  Chromosome  Start    End  Peak Name  \\\n",
      "0          1   2374   3625  SRX391990   \n",
      "1          1   8607   8909  SRX391990   \n",
      "2          1   9512   9807  SRX391990   \n",
      "3          1  14639  15688  SRX391990   \n",
      "4          1  20587  21661  SRX391990   \n",
      "\n",
      "                                            Sequence  \\\n",
      "0  ATATTAACCATGTATTCATAGTAAAATGTTTCATGTGATATCAAAC...   \n",
      "1  AAGAACTTGAATTGAAATAGTTTTTTACCTGAATATTGACAGTTGC...   \n",
      "2  TTTATAAGAAAATAAATTATTTATTACAATTCAACAGTGAAGAAAT...   \n",
      "3  GCCATGATTACTTAAAACTTTGTATGCATATACCATGTACATATGA...   \n",
      "4  AAATTATGTTTTCATAGTCAAGTAACTAGTTTGTGTTATTTCCATT...   \n",
      "\n",
      "                                    One_Hot_Sequence  \n",
      "0  [[1, 0, 0, 0], [0, 0, 0, 1], [1, 0, 0, 0], [0,...  \n",
      "1  [[1, 0, 0, 0], [1, 0, 0, 0], [0, 0, 1, 0], [1,...  \n",
      "2  [[0, 0, 0, 1], [0, 0, 0, 1], [0, 0, 0, 1], [1,...  \n",
      "3  [[0, 0, 1, 0], [0, 1, 0, 0], [0, 1, 0, 0], [1,...  \n",
      "4  [[1, 0, 0, 0], [1, 0, 0, 0], [1, 0, 0, 0], [0,...  \n",
      "Shape of DataFrame: (194733, 6)\n"
     ]
    }
   ],
   "source": [
    "import pandas as pd\n",
    "from tqdm import tqdm\n",
    " \n",
    "# Function to read chromosome sequences from FASTA files\n",
    "def read_chromosome_sequence(filepath):\n",
    "    with open(filepath, 'r') as f:\n",
    "        sequence = ''.join(line.strip() for line in f.readlines()[1:])\n",
    "    return sequence\n",
    " \n",
    "# File paths for chromosomes\n",
    "Chromosome_files = {\n",
    "    'Chromosome_1': 'Final_bed_files/Chromosomes/Arabidopsis_thaliana.TAIR10.dna.chromosome.1.fa',\n",
    "    'Chromosome_2': 'Final_bed_files/Chromosomes/Arabidopsis_thaliana.TAIR10.dna.chromosome.2.fa',\n",
    "    'Chromosome_3': 'Final_bed_files/Chromosomes/Arabidopsis_thaliana.TAIR10.dna.chromosome.3.fa',\n",
    "    'Chromosome_4': 'Final_bed_files/Chromosomes/Arabidopsis_thaliana.TAIR10.dna.chromosome.4.fa',\n",
    "    'Chromosome_5': 'Final_bed_files/Chromosomes/Arabidopsis_thaliana.TAIR10.dna.chromosome.5.fa'\n",
    "}\n",
    " \n",
    "# Read chromosome sequences\n",
    "chromosome_sequences = {}\n",
    "for chromosome, filepath in Chromosome_files.items():\n",
    "    chromosome_sequences[chromosome.split('_')[1]] = read_chromosome_sequence(filepath)\n",
    " \n",
    "def one_hot_encode_dna(sequence):\n",
    "    mapping = {'A': [1, 0, 0, 0], 'C': [0, 1, 0, 0], 'G': [0, 0, 1, 0], 'T': [0, 0, 0, 1], 'N': [0, 0, 0, 0]}\n",
    "    one_hot_encoded = [mapping.get(nucleotide, [0, 0, 0, 0]) for nucleotide in sequence]\n",
    "    return one_hot_encoded\n",
    " \n",
    "def extract_peak_sequences(bed_file, chromosome_sequences):\n",
    "    peaks = []\n",
    "    with open(bed_file, 'r') as f:\n",
    "        lines = f.readlines()\n",
    " \n",
    "    for line in tqdm(lines, desc=f\"Extracting peaks from {bed_file}\"):\n",
    "        parts = line.strip().split('\\t')\n",
    "        chromosome = parts[0].split('Chr')[1]\n",
    "        start = int(parts[1])\n",
    "        end = int(parts[2])\n",
    "        peak_name = parts[3].split('_')[0]\n",
    "        peak_sequence = chromosome_sequences[chromosome][start-400:end+400]\n",
    " \n",
    "        # Padding logic: extend the sequence to 800 if it is shorter\n",
    "        target_length = 800\n",
    "        if len(peak_sequence) < target_length:\n",
    "            peak_sequence += 'N' * (target_length - len(peak_sequence))\n",
    "        elif len(peak_sequence) > target_length:\n",
    "            peak_sequence = peak_sequence[:target_length]\n",
    " \n",
    "        one_hot_sequence = one_hot_encode_dna(peak_sequence)\n",
    "        peaks.append({\n",
    "            'Chromosome': chromosome,\n",
    "            'Start': start,\n",
    "            'End': end,\n",
    "            'Peak Name': peak_name,\n",
    "            'Sequence': peak_sequence,\n",
    "            'One_Hot_Sequence': one_hot_sequence\n",
    "        })\n",
    "    return peaks\n",
    " \n",
    "SRX_bed_files = [\n",
    "    'Final_bed_files/test_bedFiles/SRX391990.target.all.bed',\n",
    "    'Final_bed_files/test_bedFiles/SRX391991.target.all.bed',\n",
    "    'Final_bed_files/test_bedFiles/SRX391992.target.all.bed',\n",
    "    'Final_bed_files/test_bedFiles/SRX391993.target.all.bed',\n",
    "    'Final_bed_files/test_bedFiles/SRX391994.target.all.bed',\n",
    "    'Final_bed_files/test_bedFiles/SRX391995.target.all.bed',\n",
    "    'Final_bed_files/test_bedFiles/SRX391996.target.all.bed',\n",
    "    'Final_bed_files/test_bedFiles/SRX391997.target.all.bed',\n",
    "    'Final_bed_files/test_bedFiles/SRX1096548.target.all.bed',\n",
    "    'Final_bed_files/test_bedFiles/SRX1096549.target.all.bed'\n",
    "]\n",
    " \n",
    "all_peaks = []\n",
    "for bed_file in SRX_bed_files:\n",
    "    peaks = extract_peak_sequences(bed_file, chromosome_sequences)\n",
    "    all_peaks.extend(peaks)\n",
    " \n",
    "df = pd.DataFrame(all_peaks)\n",
    "print(df.head())\n",
    "print(\"Shape of DataFrame:\", df.shape)\n"
   ]
  },
  {
   "cell_type": "code",
   "execution_count": 8,
   "metadata": {},
   "outputs": [],
   "source": [
    "def label_peaks(df, bed_files, overlap_threshold=300):\n",
    "    # Extract the SRX identifier from each bed file name\n",
    "    srx_identifiers = [file.split('/')[-1].split('.')[0] for file in bed_files]\n",
    "    \n",
    "    # Create a dictionary to map SRX identifiers to their index positions\n",
    "    srx_index_map = {srx: idx for idx, srx in enumerate(srx_identifiers)}\n",
    "    \n",
    "    # Create a dictionary to store peak intervals by SRX identifier\n",
    "    peak_intervals = {srx: [] for srx in srx_identifiers}\n",
    "    for index, row in tqdm(df.iterrows(), total=df.shape[0], desc=\"Processing rows\"):\n",
    "        srx_id = row['Peak Name'].split('_')[0]\n",
    "        if srx_id in peak_intervals:\n",
    "            # Store tuple of (start, end, index_in_df)\n",
    "            peak_intervals[srx_id].append((row['Start'], row['End'], index))\n",
    "    \n",
    "    # Initialize labels for all rows\n",
    "    df['Label'] = [[0] * len(srx_identifiers) for _ in range(len(df))]\n",
    "    \n",
    "    # Function to set labels considering overlaps\n",
    "    def set_labels():\n",
    "        for srx, intervals in tqdm(peak_intervals.items(), desc=\"Setting labels\"):\n",
    "            for start, end, idx in intervals:\n",
    "                # Check for overlap with all other intervals in the same group\n",
    "                for other_srx, other_intervals in peak_intervals.items():\n",
    "                    if srx == other_srx:  # Skip same SRX to avoid self-comparison\n",
    "                        continue\n",
    "                    for other_start, other_end, other_idx in other_intervals:\n",
    "                        # Check if the intervals overlap by at least 300\n",
    "                        if (min(end, other_end) - max(start, other_start) >= overlap_threshold):\n",
    "                            df.at[idx, 'Label'][srx_index_map[other_srx]] = 1\n",
    "                # Ensure the current SRX is always marked as 1\n",
    "                df.at[idx, 'Label'][srx_index_map[srx]] = 1\n",
    "    \n",
    "    # Apply labels setting function\n",
    "    set_labels()\n",
    "    \n",
    "    # Drop columns not required and retain only 'Chromosome', 'Label', and 'One_Hot_Sequence'\n",
    "    final_df = df[['Chromosome', 'Label', 'One_Hot_Sequence']]\n",
    "    \n",
    "    return final_df\n"
   ]
  },
  {
   "cell_type": "code",
   "execution_count": 12,
   "metadata": {},
   "outputs": [
    {
     "name": "stderr",
     "output_type": "stream",
     "text": [
      "Processing rows:   0%|          | 0/19473 [00:00<?, ?it/s]"
     ]
    },
    {
     "name": "stderr",
     "output_type": "stream",
     "text": [
      "Processing rows: 100%|██████████| 19473/19473 [00:00<00:00, 26319.49it/s]\n",
      "Setting labels: 100%|██████████| 10/10 [01:37<00:00,  9.75s/it]"
     ]
    },
    {
     "name": "stdout",
     "output_type": "stream",
     "text": [
      "<bound method NDFrame.head of        Chromosome                           Label  \\\n",
      "194149          5  [0, 0, 0, 0, 0, 0, 0, 0, 0, 1]   \n",
      "137333          5  [0, 0, 0, 1, 0, 0, 1, 0, 1, 0]   \n",
      "118008          3  [0, 0, 0, 0, 0, 1, 0, 0, 0, 0]   \n",
      "16540           5  [1, 0, 0, 0, 0, 0, 0, 0, 0, 0]   \n",
      "167015          4  [0, 0, 0, 0, 0, 0, 0, 0, 1, 0]   \n",
      "...           ...                             ...   \n",
      "58903           1  [0, 0, 0, 1, 0, 0, 0, 0, 0, 0]   \n",
      "126620          1  [0, 0, 0, 0, 0, 0, 1, 0, 0, 0]   \n",
      "163656          3  [0, 0, 0, 0, 0, 0, 0, 0, 1, 0]   \n",
      "44612           1  [0, 0, 1, 0, 0, 0, 0, 0, 0, 0]   \n",
      "79524           5  [0, 0, 0, 1, 0, 0, 0, 0, 0, 0]   \n",
      "\n",
      "                                         One_Hot_Sequence  \n",
      "194149  [[0, 0, 0, 1], [0, 0, 0, 1], [1, 0, 0, 0], [0,...  \n",
      "137333  [[1, 0, 0, 0], [0, 0, 0, 1], [0, 0, 1, 0], [0,...  \n",
      "118008  [[1, 0, 0, 0], [1, 0, 0, 0], [0, 0, 1, 0], [0,...  \n",
      "16540   [[0, 0, 1, 0], [0, 0, 0, 1], [1, 0, 0, 0], [0,...  \n",
      "167015  [[1, 0, 0, 0], [0, 0, 0, 1], [0, 0, 1, 0], [0,...  \n",
      "...                                                   ...  \n",
      "58903   [[1, 0, 0, 0], [1, 0, 0, 0], [1, 0, 0, 0], [0,...  \n",
      "126620  [[1, 0, 0, 0], [0, 1, 0, 0], [1, 0, 0, 0], [0,...  \n",
      "163656  [[0, 0, 0, 1], [1, 0, 0, 0], [0, 0, 1, 0], [0,...  \n",
      "44612   [[1, 0, 0, 0], [0, 0, 1, 0], [0, 0, 0, 1], [0,...  \n",
      "79524   [[0, 1, 0, 0], [0, 0, 0, 1], [0, 0, 0, 1], [0,...  \n",
      "\n",
      "[19473 rows x 3 columns]>\n"
     ]
    },
    {
     "name": "stderr",
     "output_type": "stream",
     "text": [
      "\n"
     ]
    }
   ],
   "source": [
    "# Example usage:\n",
    "fraction = 0.1  # Adjust this value to the desired fraction\n",
    "sampled_df = df.sample(frac=fraction, random_state=42)\n",
    "\n",
    "labeled_df = label_peaks(sampled_df, SRX_bed_files)\n",
    "print(labeled_df.head)"
   ]
  },
  {
   "cell_type": "code",
   "execution_count": 13,
   "metadata": {},
   "outputs": [
    {
     "name": "stdout",
     "output_type": "stream",
     "text": [
      "Shape of labeled_df: (19473, 3)\n"
     ]
    }
   ],
   "source": [
    "# Print the shape of the DataFrame\n",
    "print(\"Shape of labeled_df:\", labeled_df.shape)"
   ]
  },
  {
   "cell_type": "markdown",
   "metadata": {},
   "source": [
    "I wanted to check that my code worked correctly, and there was entries with more than one 1 label."
   ]
  },
  {
   "cell_type": "code",
   "execution_count": 14,
   "metadata": {},
   "outputs": [
    {
     "name": "stdout",
     "output_type": "stream",
     "text": [
      "       Chromosome                           Label  \\\n",
      "137333          5  [0, 0, 0, 1, 0, 0, 1, 0, 1, 0]   \n",
      "143658          3  [0, 1, 0, 0, 0, 0, 0, 1, 0, 0]   \n",
      "188381          4  [0, 1, 0, 1, 0, 0, 0, 0, 0, 1]   \n",
      "17902           5  [1, 0, 0, 0, 1, 0, 0, 0, 1, 0]   \n",
      "159362          2  [1, 0, 0, 0, 0, 0, 0, 0, 1, 0]   \n",
      "...           ...                             ...   \n",
      "185910          3  [1, 0, 0, 0, 1, 0, 0, 0, 1, 1]   \n",
      "97311           3  [0, 0, 0, 1, 1, 0, 0, 0, 0, 0]   \n",
      "104009          5  [0, 0, 0, 0, 1, 0, 1, 0, 1, 0]   \n",
      "134104          4  [0, 0, 0, 0, 0, 0, 1, 0, 1, 0]   \n",
      "56616           5  [0, 1, 1, 0, 0, 1, 0, 0, 0, 0]   \n",
      "\n",
      "                                         One_Hot_Sequence  \n",
      "137333  [[1, 0, 0, 0], [0, 0, 0, 1], [0, 0, 1, 0], [0,...  \n",
      "143658  [[0, 0, 1, 0], [0, 0, 0, 1], [0, 1, 0, 0], [0,...  \n",
      "188381  [[1, 0, 0, 0], [1, 0, 0, 0], [1, 0, 0, 0], [0,...  \n",
      "17902   [[0, 0, 1, 0], [0, 0, 1, 0], [0, 0, 0, 1], [0,...  \n",
      "159362  [[0, 0, 0, 1], [0, 0, 0, 1], [1, 0, 0, 0], [0,...  \n",
      "...                                                   ...  \n",
      "185910  [[0, 0, 1, 0], [0, 0, 1, 0], [0, 1, 0, 0], [0,...  \n",
      "97311   [[0, 0, 0, 1], [0, 0, 0, 1], [0, 0, 1, 0], [0,...  \n",
      "104009  [[1, 0, 0, 0], [1, 0, 0, 0], [0, 0, 1, 0], [0,...  \n",
      "134104  [[1, 0, 0, 0], [0, 1, 0, 0], [1, 0, 0, 0], [0,...  \n",
      "56616   [[1, 0, 0, 0], [0, 0, 1, 0], [0, 0, 0, 1], [0,...  \n",
      "\n",
      "[6891 rows x 3 columns]\n",
      "First entry with multiple 1s in 'Label':\n",
      "Chromosome                                                          5\n",
      "Label                                  [0, 0, 0, 1, 0, 0, 1, 0, 1, 0]\n",
      "One_Hot_Sequence    [[1, 0, 0, 0], [0, 0, 0, 1], [0, 0, 1, 0], [0,...\n",
      "Name: 137333, dtype: object\n"
     ]
    }
   ],
   "source": [
    "# Filter rows where the sum of 1s in the 'Label' vector is greater than 1\n",
    "entries_with_multiple_ones = labeled_df[labeled_df['Label'].apply(lambda x: sum(x) > 1)]\n",
    "\n",
    "# Print these entries\n",
    "print(entries_with_multiple_ones)\n",
    "\n",
    "# If you want to print a specific entry, such as the first one if it exists:\n",
    "if not entries_with_multiple_ones.empty:\n",
    "    print(\"First entry with multiple 1s in 'Label':\")\n",
    "    print(entries_with_multiple_ones.iloc[0])\n",
    "else:\n",
    "    print(\"No entries with multiple 1s found.\")"
   ]
  },
  {
   "cell_type": "code",
   "execution_count": 15,
   "metadata": {},
   "outputs": [
    {
     "name": "stdout",
     "output_type": "stream",
     "text": [
      "The DataFrame has been saved to 'labeled_df.pkl'\n"
     ]
    }
   ],
   "source": [
    "# Save the labeled DataFrame to a pickle file\n",
    "labeled_df.to_pickle(\"labeled_df.pkl\")\n",
    "\n",
    "# Output a message indicating the file has been saved\n",
    "print(\"The DataFrame has been saved to 'labeled_df.pkl'\")"
   ]
  },
  {
   "cell_type": "code",
   "execution_count": null,
   "metadata": {},
   "outputs": [],
   "source": []
  }
 ],
 "metadata": {
  "kernelspec": {
   "display_name": "Python 3",
   "language": "python",
   "name": "python3"
  },
  "language_info": {
   "codemirror_mode": {
    "name": "ipython",
    "version": 3
   },
   "file_extension": ".py",
   "mimetype": "text/x-python",
   "name": "python",
   "nbconvert_exporter": "python",
   "pygments_lexer": "ipython3",
   "version": "3.11.9"
  }
 },
 "nbformat": 4,
 "nbformat_minor": 2
}
