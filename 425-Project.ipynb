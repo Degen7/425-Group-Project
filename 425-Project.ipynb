{
 "cells": [
  {
   "cell_type": "markdown",
   "metadata": {},
   "source": [
    "425 Project"
   ]
  },
  {
   "cell_type": "code",
   "execution_count": 7,
   "metadata": {},
   "outputs": [],
   "source": [
    "import csv\n",
    "import sys\n",
    "import torch\n",
    "from sklearn import metrics\n",
    "from sklearn.model_selection import train_test_split\n",
    "import pandas as pd\n",
    "import pyranges as pr\n",
    "import sqlite3\n",
    "\n",
    "import numpy as np\n",
    "from torch.utils.data import Dataset, DataLoader\n",
    "import torch.nn as nn\n",
    "import os \n",
    "import warnings\n",
    "#warnings.filterwarnings(\"ignore\")"
   ]
  },
  {
   "cell_type": "code",
   "execution_count": 17,
   "metadata": {},
   "outputs": [],
   "source": [
    "def process_dataframe(filename):\n",
    "    # Read the CSV file into a DataFrame\n",
    "    df = pd.read_csv(filename, sep='\\t', header=None)\n",
    "\n",
    "    # Set column names\n",
    "    df.columns = ['chromosome', 'start', 'end', 'name', 'score', 'strand', 'stuff', 'things', 'who', 'ahh', 'scream', 'ska', 'die', 'grr']\n",
    "\n",
    "    # Calculate new positions based on existing start and end positions\n",
    "    df['dif'] = df['end'] - df['start']\n",
    "    df['mid'] = df['dif'] // 2\n",
    "    df['midpoint'] = df['start'] + df['mid']\n",
    "    df['new_start'] = df['midpoint'] - 300\n",
    "    df['new_end'] = df['midpoint'] + 300\n",
    "    df['dif_new'] = df['new_end'] - df['new_start']\n",
    "\n",
    "    # Create a new DataFrame with selected columns\n",
    "    df_new = pd.DataFrame({\n",
    "        'chromosome': df['chromosome'],\n",
    "        'start': df['start'],\n",
    "        'end': df['end'],\n",
    "        'midpoint': df['midpoint'],\n",
    "        'dif': df['dif'],\n",
    "        'new_start': df['new_start'], #new start and end are from the midpoint out 250 each way\n",
    "        'new_end': df['new_end'],\n",
    "        'position_difference_new': df['dif_new']\n",
    "    })\n",
    "\n",
    "    return df"
   ]
  },
  {
   "cell_type": "code",
   "execution_count": 29,
   "metadata": {},
   "outputs": [],
   "source": [
    "testFile = \"Final_bed_files/SRP034156_BedFiles/SRX391990.target.all.bed\"\n",
    "directory = \"Final_bed_files//test_bedFiles\"\n",
    "\n",
    "# List to store dataframes\n",
    "dataframes = []\n",
    "\n",
    "for filename in os.listdir(directory):\n",
    "    if filename.endswith(\".bed\"):\n",
    "        file_path = os.path.join(directory, filename)\n",
    "        df = process_dataframe(file_path)\n",
    "        dataframes.append(df)\n"
   ]
  },
  {
   "cell_type": "code",
   "execution_count": 30,
   "metadata": {},
   "outputs": [
    {
     "name": "stdout",
     "output_type": "stream",
     "text": [
      "DataFrame 1: 19464 rows x 20 columns\n",
      "DataFrame 2: 22100 rows x 20 columns\n",
      "DataFrame 3: 16752 rows x 20 columns\n",
      "DataFrame 4: 22932 rows x 20 columns\n"
     ]
    }
   ],
   "source": [
    "#Check size of each dataframe within the list\n",
    "for i, df in enumerate(dataframes):\n",
    "    num_rows, num_columns = df.shape\n",
    "    print(f\"DataFrame {i+1}: {num_rows} rows x {num_columns} columns\")"
   ]
  }
 ],
 "metadata": {
  "kernelspec": {
   "display_name": "Python 3",
   "language": "python",
   "name": "python3"
  },
  "language_info": {
   "codemirror_mode": {
    "name": "ipython",
    "version": 3
   },
   "file_extension": ".py",
   "mimetype": "text/x-python",
   "name": "python",
   "nbconvert_exporter": "python",
   "pygments_lexer": "ipython3",
   "version": "3.11.9"
  }
 },
 "nbformat": 4,
 "nbformat_minor": 2
}
